{
  "nbformat": 4,
  "nbformat_minor": 0,
  "metadata": {
    "colab": {
      "provenance": []
    },
    "kernelspec": {
      "name": "python3",
      "display_name": "Python 3"
    },
    "language_info": {
      "name": "python"
    }
  },
  "cells": [
    {
      "cell_type": "code",
      "execution_count": null,
      "metadata": {
        "id": "Zac8IaO-Clx2"
      },
      "outputs": [],
      "source": [
        "\n",
        "\n",
        "from numpy import *\n",
        "from os import listdir\n",
        "import matplotlib\n",
        "import matplotlib.pyplot as plt\n",
        "import pandas as pd\n",
        "import numpy as np1\n",
        "import numpy.linalg as np\n",
        "from scipy.stats.stats import pearsonr"
      ]
    },
    {
      "cell_type": "code",
      "source": [
        "\n",
        " \n",
        "def kernel(point,xmat, k):\n",
        "  m,n = np1.shape(xmat)\n",
        "  weights = np1.mat(np1.eye((m)))\n",
        "  for j in range(m):\n",
        "    diff = point - X[j]\n",
        "    weights[j,j] = np1.exp(diff*diff.T/(-2.0*k**2))\n",
        "    return weights"
      ],
      "metadata": {
        "id": "sun-JywbDjJR"
      },
      "execution_count": null,
      "outputs": []
    },
    {
      "cell_type": "code",
      "source": [
        "def localWeight(point,xmat,ymat,k):\n",
        "  wei = kernel(point,xmat,k)\n",
        "  W = (X.T*(wei*X)).I*(X.T*(wei*ymat.T))\n",
        "  return W"
      ],
      "metadata": {
        "id": "O4XWrn4lEPqY"
      },
      "execution_count": null,
      "outputs": []
    },
    {
      "cell_type": "code",
      "source": [
        "def localWeightRegression(xmat,ymat,k):\n",
        "    m,n = np1.shape(xmat)\n",
        "    ypred = np1.zeros(m)\n",
        "    for i in range(m):\n",
        "        ypred[i] = xmat[i]*localWeight(xmat[i],xmat,ymat,k)\n",
        "    return ypred"
      ],
      "metadata": {
        "id": "qhYWXgLjEzc2"
      },
      "execution_count": null,
      "outputs": []
    },
    {
      "cell_type": "code",
      "source": [
        "data = pd.read_csv('/content/TIPS - Sheet1 (2).csv')\n",
        "bill = np1.array(data.TOTALBILL)\n",
        "tip = np1.array(data.TIP)\n",
        " \n",
        "mbill = np1.mat(bill)\n",
        "mtip = np1.mat(tip)\n",
        "m= np1.shape(mbill)[1]\n",
        "\n",
        "one = np1.mat(np1.ones(m)) \n",
        "X= np1.hstack((one.T,mbill.T)) \n",
        "\n",
        "ypred = localWeightRegression(X,mtip,0.3) \n",
        "SortIndex = X[:,1].argsort(0)\n",
        "xsort = X[SortIndex][:,0]\n",
        "     \n",
        "fig = plt.figure()\n",
        "ax = fig.add_subplot(1,1,1)\n",
        "ax.scatter(bill,tip, color='green')\n",
        "ax.plot(xsort[:,1],ypred[SortIndex], color = 'red', linewidth=5)\n",
        "plt.xlabel('Total bill')\n",
        "plt.ylabel('Tip')\n",
        "plt.show();"
      ],
      "metadata": {
        "colab": {
          "base_uri": "https://localhost:8080/",
          "height": 279
        },
        "id": "8yq_MRmxFhg9",
        "outputId": "12e185a7-9068-46ff-9358-1bd8dcbd2d49"
      },
      "execution_count": null,
      "outputs": [
        {
          "output_type": "display_data",
          "data": {
            "text/plain": [
              "<Figure size 432x288 with 1 Axes>"
            ],
            "image/png": "[encoded data removed]"
          },
          "metadata": {
            "needs_background": "light"
          }
        }
      ]
    }
  ]
}